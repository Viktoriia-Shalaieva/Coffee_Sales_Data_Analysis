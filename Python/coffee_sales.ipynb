{
 "cells": [
  {
   "cell_type": "markdown",
   "metadata": {},
   "source": [
    "Import packages"
   ]
  },
  {
   "cell_type": "code",
   "execution_count": 5,
   "metadata": {},
   "outputs": [],
   "source": [
    "import matplotlib.pyplot as plt\n",
    "import pandas as pd\n",
    "import seaborn as sns"
   ]
  },
  {
   "cell_type": "markdown",
   "metadata": {},
   "source": [
    "Load and read CSV"
   ]
  },
  {
   "cell_type": "code",
   "execution_count": 6,
   "metadata": {},
   "outputs": [],
   "source": [
    "file_path = r'C:\\Users\\vgrec\\Desktop\\Coffee Sales\\Coffee_Sales.csv'\n",
    "df = pd.read_csv(file_path)"
   ]
  },
  {
   "cell_type": "markdown",
   "metadata": {},
   "source": [
    "### **Exploratory Data Analysis (EDA)**"
   ]
  },
  {
   "cell_type": "code",
   "execution_count": 7,
   "metadata": {},
   "outputs": [
    {
     "name": "stdout",
     "output_type": "stream",
     "text": [
      "The Number of Rows are 1133, and columns are 6.\n"
     ]
    }
   ],
   "source": [
    "#Dimentions of the data\n",
    "print(f\"The Number of Rows are {df.shape[0]}, and columns are {df.shape[1]}.\")"
   ]
  },
  {
   "cell_type": "code",
   "execution_count": 8,
   "metadata": {},
   "outputs": [
    {
     "name": "stdout",
     "output_type": "stream",
     "text": [
      "6798\n"
     ]
    }
   ],
   "source": [
    "print(df.size)"
   ]
  },
  {
   "cell_type": "code",
   "execution_count": 9,
   "metadata": {},
   "outputs": [
    {
     "name": "stdout",
     "output_type": "stream",
     "text": [
      "First few rows of data:\n",
      "         date                 datetime cash_type                 card  money  \\\n",
      "0  2024-03-01  2024-03-01 10:15:50.520      card  ANON-0000-0000-0001   38.7   \n",
      "1  2024-03-01  2024-03-01 12:19:22.539      card  ANON-0000-0000-0002   38.7   \n",
      "2  2024-03-01  2024-03-01 12:20:18.089      card  ANON-0000-0000-0002   38.7   \n",
      "3  2024-03-01  2024-03-01 13:46:33.006      card  ANON-0000-0000-0003   28.9   \n",
      "4  2024-03-01  2024-03-01 13:48:14.626      card  ANON-0000-0000-0004   38.7   \n",
      "\n",
      "     coffee_name  \n",
      "0          Latte  \n",
      "1  Hot Chocolate  \n",
      "2  Hot Chocolate  \n",
      "3      Americano  \n",
      "4          Latte  \n"
     ]
    }
   ],
   "source": [
    "#Display the first few rows of data\n",
    "print(\"First few rows of data:\")\n",
    "print(df.head())"
   ]
  },
  {
   "cell_type": "code",
   "execution_count": 10,
   "metadata": {},
   "outputs": [
    {
     "name": "stdout",
     "output_type": "stream",
     "text": [
      "Dataset information:\n",
      "<class 'pandas.core.frame.DataFrame'>\n",
      "RangeIndex: 1133 entries, 0 to 1132\n",
      "Data columns (total 6 columns):\n",
      " #   Column       Non-Null Count  Dtype  \n",
      "---  ------       --------------  -----  \n",
      " 0   date         1133 non-null   object \n",
      " 1   datetime     1133 non-null   object \n",
      " 2   cash_type    1133 non-null   object \n",
      " 3   card         1044 non-null   object \n",
      " 4   money        1133 non-null   float64\n",
      " 5   coffee_name  1133 non-null   object \n",
      "dtypes: float64(1), object(5)\n",
      "memory usage: 53.2+ KB\n",
      "None\n"
     ]
    }
   ],
   "source": [
    "#Get information about the dataset\n",
    "print(\"Dataset information:\")\n",
    "print(df.info())"
   ]
  },
  {
   "cell_type": "code",
   "execution_count": 11,
   "metadata": {},
   "outputs": [
    {
     "name": "stdout",
     "output_type": "stream",
     "text": [
      "Basic statistics:\n",
      "             money\n",
      "count  1133.000000\n",
      "mean     33.105808\n",
      "std       5.035366\n",
      "min      18.120000\n",
      "25%      28.900000\n",
      "50%      32.820000\n",
      "75%      37.720000\n",
      "max      40.000000\n",
      "              date                 datetime cash_type                 card  \\\n",
      "count         1133                     1133      1133                 1044   \n",
      "unique         150                     1133         2                  446   \n",
      "top     2024-07-30  2024-03-01 10:15:50.520      card  ANON-0000-0000-0012   \n",
      "freq            24                        1      1044                   88   \n",
      "\n",
      "                coffee_name  \n",
      "count                  1133  \n",
      "unique                    8  \n",
      "top     Americano with Milk  \n",
      "freq                    268  \n"
     ]
    }
   ],
   "source": [
    "# Basic statistics\n",
    "print(\"Basic statistics:\")\n",
    "print(df.describe())\n",
    "print(df.describe(include=['object']))"
   ]
  },
  {
   "cell_type": "code",
   "execution_count": 12,
   "metadata": {},
   "outputs": [
    {
     "name": "stdout",
     "output_type": "stream",
     "text": [
      "The dublicated data:\n",
      "0\n"
     ]
    }
   ],
   "source": [
    "# Check the dublicated data\n",
    "print(\"The dublicated data:\")\n",
    "print(df.duplicated().sum())"
   ]
  },
  {
   "cell_type": "code",
   "execution_count": 13,
   "metadata": {},
   "outputs": [
    {
     "name": "stdout",
     "output_type": "stream",
     "text": [
      "Number of missing values in each column:\n",
      "date            0\n",
      "datetime        0\n",
      "cash_type       0\n",
      "card           89\n",
      "money           0\n",
      "coffee_name     0\n",
      "dtype: int64\n"
     ]
    }
   ],
   "source": [
    "# Check for missing values\n",
    "print(\"Number of missing values in each column:\")\n",
    "print(df.isnull().sum())"
   ]
  },
  {
   "cell_type": "markdown",
   "metadata": {},
   "source": [
    "### *Conclusions:*\n",
    "- *The dataset contains 1133 records and 6 columns, with one column being numeric and the remaining columns categorical.*\n",
    "- *There are no duplicate records in the dataset, which is a positive aspect for further analysis.*\n",
    "- *89 missing values are present in the 'card' column.*\n",
    "- *The basic statistics for the 'money' column indicate an average coffee price of approximately 33.11 units with minor deviations.*\n",
    "- *The 'coffee_name' column shows that 'Americano with Milk' has the highest sales volume.*\n",
    "- *For further time-based analysis, the date and datetime columns, which are currently of type object, will need to be converted to proper date formats. This conversion will enable more effective time-series analysis and utilization of time-based functionalities.*"
   ]
  }
 ],
 "metadata": {
  "kernelspec": {
   "display_name": "Python 3",
   "language": "python",
   "name": "python3"
  },
  "language_info": {
   "codemirror_mode": {
    "name": "ipython",
    "version": 3
   },
   "file_extension": ".py",
   "mimetype": "text/x-python",
   "name": "python",
   "nbconvert_exporter": "python",
   "pygments_lexer": "ipython3",
   "version": "3.12.5"
  }
 },
 "nbformat": 4,
 "nbformat_minor": 2
}
